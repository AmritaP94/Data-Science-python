{
 "cells": [
  {
   "cell_type": "code",
   "execution_count": 3,
   "id": "d6baa9ed",
   "metadata": {},
   "outputs": [
    {
     "name": "stdout",
     "output_type": "stream",
     "text": [
      "Hello Python\n"
     ]
    }
   ],
   "source": [
    "#Q1)Write a Python program to print \"Hello Python\"?\n",
    "#Ans:\n",
    "def printing():\n",
    "    print(\"Hello Python\")\n",
    "\n",
    "printing()"
   ]
  },
  {
   "cell_type": "code",
   "execution_count": 4,
   "id": "a140a04c",
   "metadata": {},
   "outputs": [
    {
     "data": {
      "text/plain": [
       "(15, 0.5)"
      ]
     },
     "execution_count": 4,
     "metadata": {},
     "output_type": "execute_result"
    }
   ],
   "source": [
    "#Q2)Write a Python program to do arithmetical operations addition and division.?\n",
    "#Ans:\n",
    "a = 5\n",
    "b = 10\n",
    "def addition():\n",
    "    return(a+b)\n",
    "\n",
    "def division():\n",
    "    return(a/b)\n",
    "\n",
    "addition(), division()"
   ]
  },
  {
   "cell_type": "code",
   "execution_count": 7,
   "id": "f07819c6",
   "metadata": {},
   "outputs": [
    {
     "data": {
      "text/plain": [
       "('area of the triangle is', 25.0, 'unit sq')"
      ]
     },
     "execution_count": 7,
     "metadata": {},
     "output_type": "execute_result"
    }
   ],
   "source": [
    "#Q3)Write a Python program to find the area of a triangle?\n",
    "#Ans:\n",
    "def area_triangle(length,breadth):\n",
    "    return(\"area of the triangle is\", (length*breadth)/2, \"unit sq\")\n",
    "\n",
    "area_triangle(10,5)\n",
    "    \n",
    "    "
   ]
  },
  {
   "cell_type": "code",
   "execution_count": 8,
   "id": "94ffdc26",
   "metadata": {},
   "outputs": [
    {
     "data": {
      "text/plain": [
       "('new a is', 10, 'new b is', 5)"
      ]
     },
     "execution_count": 8,
     "metadata": {},
     "output_type": "execute_result"
    }
   ],
   "source": [
    "#Q4)Write a Python program to swap two variables?\n",
    "#Ans:\n",
    "a=5\n",
    "b=10\n",
    "def swapping(a,b):\n",
    "    c = b\n",
    "    b=a\n",
    "    a=c\n",
    "    return(\"new a is\",a,\"new b is\", b)\n",
    "\n",
    "swapping(5,10)"
   ]
  },
  {
   "cell_type": "code",
   "execution_count": 12,
   "id": "27d2e558",
   "metadata": {},
   "outputs": [
    {
     "data": {
      "text/plain": [
       "15"
      ]
     },
     "execution_count": 12,
     "metadata": {},
     "output_type": "execute_result"
    }
   ],
   "source": [
    "#Q5)Write a Python program to generate a random number?\n",
    "#Ans:\n",
    "def random_number(a,b):\n",
    "    import random\n",
    "    return(random.randint(a,b))\n",
    "\n",
    "random_number(10,20)"
   ]
  },
  {
   "cell_type": "code",
   "execution_count": null,
   "id": "d1f9704b",
   "metadata": {},
   "outputs": [],
   "source": []
  }
 ],
 "metadata": {
  "kernelspec": {
   "display_name": "Python 3",
   "language": "python",
   "name": "python3"
  },
  "language_info": {
   "codemirror_mode": {
    "name": "ipython",
    "version": 3
   },
   "file_extension": ".py",
   "mimetype": "text/x-python",
   "name": "python",
   "nbconvert_exporter": "python",
   "pygments_lexer": "ipython3",
   "version": "3.8.8"
  }
 },
 "nbformat": 4,
 "nbformat_minor": 5
}
