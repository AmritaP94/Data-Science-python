{
 "cells": [
  {
   "cell_type": "code",
   "execution_count": null,
   "id": "fe3a7483",
   "metadata": {},
   "outputs": [],
   "source": [
    "#1.What are the two values of the Boolean data type? How do you write them?\n",
    "Ans: The two types of Boolean values are – True and False. They are written as strings but without the double quotes. "
   ]
  },
  {
   "cell_type": "code",
   "execution_count": null,
   "id": "348fd491",
   "metadata": {},
   "outputs": [],
   "source": [
    "#2. What are the three different types of Boolean operators?\n",
    "Ans: There are 3 types of Boolean operators. They are or\n",
    "      \n"
   ]
  },
  {
   "cell_type": "code",
   "execution_count": null,
   "id": "6742c689",
   "metadata": {},
   "outputs": [],
   "source": [
    "#3. Make a list of each Boolean operator's truth tables (i.e. every possible combination of Boolean values for the operator \n",
    "     #and what it evaluate ).\n",
    "Ans:\n",
    "          \n",
    "                            Combination (using and)\t                       Meaning\n",
    "                                True and True\t                            True\n",
    "                                True and False\t                            False\n",
    "                                False and False\t                            False\n",
    "                                False and True\t                            False.\n",
    "\n",
    "                            Combination (using or)\tMeaning\n",
    "                                True and True\t                            True\n",
    "                                True and False\t                            True\n",
    "                                False and False\t                            False\n",
    "                                False and True\t                            True\n"
   ]
  },
  {
   "cell_type": "code",
   "execution_count": null,
   "id": "73f62ead",
   "metadata": {},
   "outputs": [],
   "source": [
    "#4. What are the values of the following expressions?\n",
    "(5 > 4) and (3 == 5)                                                    False\n",
    "not (5 > 4)                                                             False\n",
    "(5 > 4) or (3 == 5)                                                     True\n",
    "not ((5 > 4) or (3 == 5))                                               False\n",
    "(True and True) and (True == False)                                     False\n",
    "(not False) or (not True)                                               False\n"
   ]
  },
  {
   "cell_type": "code",
   "execution_count": null,
   "id": "7b0b2770",
   "metadata": {},
   "outputs": [],
   "source": [
    "#5. What are the six comparison operators?\n",
    "Ans: i) = (equal to) , ii) > (greater than) , iii) <(less than), iv) != (not equal to), \n",
    "        v) >=(greater than equal   to), vi) <=(less than equal to)."
   ]
  },
  {
   "cell_type": "code",
   "execution_count": null,
   "id": "fd972b9c",
   "metadata": {},
   "outputs": [],
   "source": [
    "#6. How do you tell the difference between the equal to and assignment operators?Describe a condition and when you would use one.\n",
    "Ans: Equal to operator is used to compare two values-\n",
    "    Ex - a = 5, b = 6\n",
    "    if a == b:\n",
    "        print(True)\n",
    "        \n",
    "    Assignment operator is used to assign values to a variable.\n",
    "    Ex - a = \"Ankriti\"\n",
    "        "
   ]
  },
  {
   "cell_type": "code",
   "execution_count": null,
   "id": "12344bd9",
   "metadata": {},
   "outputs": [],
   "source": [
    "#7. Identify the three blocks in this code:\n",
    "Ans spam = 0\n",
    "    if spam == 10:\n",
    "        print('eggs')\n",
    "    #Above is block 1\n",
    "    if spam > 5:\n",
    "        print('bacon')\n",
    "    #Above is block 2\n",
    "    else:\n",
    "        print('ham')\n",
    "    #Above is block 3\n",
    "    print('spam')\n",
    "    print('spam')\n"
   ]
  },
  {
   "cell_type": "code",
   "execution_count": 1,
   "id": "217e681f",
   "metadata": {},
   "outputs": [
    {
     "name": "stdout",
     "output_type": "stream",
     "text": [
      "Enter a number2\n",
      "Howdy\n"
     ]
    }
   ],
   "source": [
    "#8. Write code that prints Hello if 1 is stored in spam, prints Howdy if 2 is stored in spam, and prints Greetings! if anything else is stored in spam.\n",
    "#Ans: \n",
    "spam = int(input(\"Enter a number\"))\n",
    "if spam == 1:\n",
    "    print(\"Hello\")\n",
    "elif spam == 2:\n",
    "    print(\"Howdy\")\n",
    "else:\n",
    "    print(\"Greetings\")\n"
   ]
  },
  {
   "cell_type": "code",
   "execution_count": null,
   "id": "6c9a75dc",
   "metadata": {},
   "outputs": [],
   "source": [
    "#9.If your programme is stuck in an endless loop, what keys you’ll press?\n",
    "Ans: Ctrl + C\n"
   ]
  },
  {
   "cell_type": "code",
   "execution_count": null,
   "id": "cd05eaa1",
   "metadata": {},
   "outputs": [],
   "source": [
    "#10. How can you tell the difference between break and continue?\n",
    "Ans: Break terminates the loop if the condition is met, \n",
    "    while continue is used to skip the remaining part of the loop and continue to the next iteration of the loop if the condition is met.\n"
   ]
  },
  {
   "cell_type": "code",
   "execution_count": null,
   "id": "e4985f87",
   "metadata": {},
   "outputs": [],
   "source": [
    "#11. In a for loop, what is the difference between range(10), range(0, 10), and range(0, 10, 1)?\n",
    "Ans: range(10): starts the loop at 0 and ends at 9, i.e, one less than the number given\n",
    "    range(0,10): starts the loop at 0 and ends at 9, same as above.\n",
    "    range(0,10,1): starts the loop at 0, ends at 9, with a iteration step of 1 which is represented by the 3rd variable."
   ]
  },
  {
   "cell_type": "code",
   "execution_count": 7,
   "id": "9525bc09",
   "metadata": {},
   "outputs": [
    {
     "name": "stdout",
     "output_type": "stream",
     "text": [
      "1\n",
      "2\n",
      "3\n",
      "4\n",
      "5\n",
      "6\n",
      "7\n",
      "8\n",
      "9\n",
      "10\n"
     ]
    }
   ],
   "source": [
    "#12. Write a short program that prints the numbers 1 to 10 using a for loop. \n",
    "for i in range(1,11):\n",
    "    print(i)\n",
    "#Then write an equivalent program that prints the numbers 1 to 10 using a while loop.\n",
    "i = 1\n",
    "while (i<11):\n",
    "    print(i)\n",
    "    i = i+1\n"
   ]
  },
  {
   "cell_type": "code",
   "execution_count": null,
   "id": "59e32085",
   "metadata": {},
   "outputs": [],
   "source": [
    "13. If you had a function named bacon() inside a module named spam, how would you call it after importing spam?\n",
    "Ans: syntax: classname.function_name()\n",
    "    "
   ]
  },
  {
   "cell_type": "code",
   "execution_count": null,
   "id": "3c9e54ab",
   "metadata": {},
   "outputs": [],
   "source": []
  }
 ],
 "metadata": {
  "kernelspec": {
   "display_name": "Python 3",
   "language": "python",
   "name": "python3"
  },
  "language_info": {
   "codemirror_mode": {
    "name": "ipython",
    "version": 3
   },
   "file_extension": ".py",
   "mimetype": "text/x-python",
   "name": "python",
   "nbconvert_exporter": "python",
   "pygments_lexer": "ipython3",
   "version": "3.8.8"
  }
 },
 "nbformat": 4,
 "nbformat_minor": 5
}
