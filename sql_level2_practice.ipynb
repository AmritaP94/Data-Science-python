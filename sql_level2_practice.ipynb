{
 "cells": [
  {
   "cell_type": "code",
   "execution_count": null,
   "id": "88c1d664",
   "metadata": {},
   "outputs": [],
   "source": [
    "#Write an sql query to select the maximum salary from each department in the employment details table.\n",
    "select * from (select *,\n",
    "max(salary) over (partition by dept_name) as max_salary,\n",
    "min(salary) over (partition by dept_name) as min_salary from practice1.employee) x where salary = x.max_salary;"
   ]
  },
  {
   "cell_type": "code",
   "execution_count": null,
   "id": "91501009",
   "metadata": {},
   "outputs": [],
   "source": [
    "#sql Query to find the second last record from the employees table.\n",
    "select * from (select *, row_number() over (order by emp_id desc) as x from practice1.employee) as y where y.x =2;"
   ]
  },
  {
   "cell_type": "code",
   "execution_count": null,
   "id": "c9804540",
   "metadata": {},
   "outputs": [],
   "source": [
    "#From the doctors table, fetch the details of doctors who work in the same hospital but in different speciality.\n",
    "select * from practice1.doctors_details d1 join (select * from (select *, row_number() over(partition by hospital order by id) as x from practice1.doctors_details) y \n",
    "where y.x =2) z on z.hospital=d1.hospital;"
   ]
  },
  {
   "cell_type": "code",
   "execution_count": null,
   "id": "7f72971c",
   "metadata": {},
   "outputs": [],
   "source": [
    "#From the login_details table, fetch the users who logged in consecutively 3 or more times.\n",
    "select distinct user_name from (select *,\n",
    "case \n",
    "\twhen user_name = lead(user_name) over(order by login_id) \n",
    "    and user_name = lead(user_name,2) over(order by login_id) then user_name else null\n",
    "end as repeated_user\n",
    "from practice1.login_details) z where z.repeated_user is not null;"
   ]
  },
  {
   "cell_type": "code",
   "execution_count": null,
   "id": "a13c11e1",
   "metadata": {},
   "outputs": [],
   "source": [
    "#From the students table, write a SQL query to interchange the adjacent student names.\n",
    "select *, case\n",
    "\t\t\twhen id%2 = 0 then lag(name,1) over(order by id)\n",
    "            when id%2 != 0 then lead(name,1) over(order by id)\n",
    "end as new_name\n",
    "from practice1.students;"
   ]
  },
  {
   "cell_type": "code",
   "execution_count": null,
   "id": "722b0f4f",
   "metadata": {},
   "outputs": [],
   "source": []
  },
  {
   "cell_type": "code",
   "execution_count": null,
   "id": "4c1795c6",
   "metadata": {},
   "outputs": [],
   "source": []
  },
  {
   "cell_type": "code",
   "execution_count": null,
   "id": "e052af34",
   "metadata": {},
   "outputs": [],
   "source": []
  },
  {
   "cell_type": "code",
   "execution_count": null,
   "id": "830cdb27",
   "metadata": {},
   "outputs": [],
   "source": []
  },
  {
   "cell_type": "code",
   "execution_count": null,
   "id": "51a0f415",
   "metadata": {},
   "outputs": [],
   "source": []
  },
  {
   "cell_type": "code",
   "execution_count": null,
   "id": "3711d025",
   "metadata": {},
   "outputs": [],
   "source": []
  },
  {
   "cell_type": "code",
   "execution_count": null,
   "id": "98a1a18a",
   "metadata": {},
   "outputs": [],
   "source": []
  },
  {
   "cell_type": "code",
   "execution_count": null,
   "id": "0ee2a627",
   "metadata": {},
   "outputs": [],
   "source": []
  }
 ],
 "metadata": {
  "kernelspec": {
   "display_name": "Python 3",
   "language": "python",
   "name": "python3"
  },
  "language_info": {
   "codemirror_mode": {
    "name": "ipython",
    "version": 3
   },
   "file_extension": ".py",
   "mimetype": "text/x-python",
   "name": "python",
   "nbconvert_exporter": "python",
   "pygments_lexer": "ipython3",
   "version": "3.8.8"
  }
 },
 "nbformat": 4,
 "nbformat_minor": 5
}
