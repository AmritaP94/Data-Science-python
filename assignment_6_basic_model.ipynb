{
 "cells": [
  {
   "cell_type": "code",
   "execution_count": null,
   "id": "5882c677",
   "metadata": {},
   "outputs": [],
   "source": [
    "#Q1)What are escape characters, and how do you use them?\n",
    "Ans: Escape characters are special characters that allow us to perform special functions which otherwise would not have been \n",
    "    allowed by the normal rules of python. Ex- using quotes within qoutes, changing a new line, or introducing a tab.\n",
    "    \\\"\\\"- is used to introduce a string within a quotes within another outer qoutes.\n",
    "    \\n-change a new line.\n",
    "    \\t - introduce a tab space.\n",
    "    "
   ]
  },
  {
   "cell_type": "code",
   "execution_count": null,
   "id": "a64b1710",
   "metadata": {},
   "outputs": [],
   "source": [
    "#Q2)What do the escape characters n and t stand for?\n",
    "Ans: \\n- represents changing to a new line.\n",
    "    \\t - represents introducing a tab space."
   ]
  },
  {
   "cell_type": "code",
   "execution_count": null,
   "id": "ba291cb6",
   "metadata": {},
   "outputs": [],
   "source": [
    "#Q3)What is the way to include backslash characters in a string?"
   ]
  },
  {
   "cell_type": "code",
   "execution_count": null,
   "id": "8d5b6bc5",
   "metadata": {},
   "outputs": [],
   "source": [
    "#Q4)The string \"Howl's Moving Castle\" is a correct value. \n",
    "    #Why isn't the single quote character in the word Howl's not escaped a problem?\n",
    "Ans:This is because it has been introduced using a escape character. \n",
    "    In terms of Code, it has been written in the following way:-\n",
    "        \"Howl\\'s Moving Castle\""
   ]
  },
  {
   "cell_type": "code",
   "execution_count": null,
   "id": "6cc1768d",
   "metadata": {},
   "outputs": [],
   "source": [
    "#Q5)How do you write a string of newlines if you don't want to use the n character?"
   ]
  },
  {
   "cell_type": "code",
   "execution_count": null,
   "id": "8ba090a2",
   "metadata": {},
   "outputs": [],
   "source": [
    "#Q6)What are the values of the given expressions?\n",
    "Ans:\n",
    "'Hello, world!'[1]       - e\n",
    "'Hello, world!'[0:5]     - Hello\n",
    "'Hello, world!'[:5]      - Hello\n",
    "'Hello, world!'[3:]      - lo,World\n",
    "\n",
    "    "
   ]
  },
  {
   "cell_type": "code",
   "execution_count": null,
   "id": "23d14f0f",
   "metadata": {},
   "outputs": [],
   "source": [
    "#Q7)What are the values of the following expressions?\n",
    "'Hello'.upper()             - HELLo\n",
    "'Hello'.upper().isupper()   - True\n",
    "'Hello'.upper().lower()     - False\n"
   ]
  },
  {
   "cell_type": "code",
   "execution_count": null,
   "id": "b99ec359",
   "metadata": {},
   "outputs": [],
   "source": [
    "#Q8) What are the values of the following expressions?\n",
    "'Remember, remember, the fifth of July.'.split() - ['Remember,', 'remember,', 'the', 'fifth', 'of', 'July.']\n",
    "'-'.join('There can only one.'.split())          - 'There-can-only-one.'\n"
   ]
  },
  {
   "cell_type": "code",
   "execution_count": null,
   "id": "f43ac853",
   "metadata": {},
   "outputs": [],
   "source": [
    "#Q9)What are the methods for right-justifying, left-justifying, and centering a string?\n",
    "Ans: Right justifying:\n",
    "        intro = \"Hello, I am Amrita Pattnaik\"\n",
    "        print(intro.rjust(60,\" \"))\n",
    "        \n",
    "    Left justifying:\n",
    "        intro = \"Hello, I am Amrita Pattnaik\"\n",
    "        print(intro.ljust(60,\" \"))\n",
    "        \n",
    "    centering:\n",
    "        intro = \"Hello, I am Amrita Pattnaik\"\n",
    "        print(intro.center(60,\" \"))\n",
    "        \n",
    "    The justifyings wont work if width of justification is less than the width of the string."
   ]
  },
  {
   "cell_type": "code",
   "execution_count": null,
   "id": "1f6b0dfd",
   "metadata": {},
   "outputs": [],
   "source": [
    "#Q10)What is the best way to remove whitespace characters from the start or end?\n",
    "Ans: The whitespaces at the start and the end can be removed by using the str.strip() method.\n",
    "    intro = \"      Hello, I am Amrita Pattnaik      \"\n",
    "    intro1 = intro.strip()\n",
    "    intro1"
   ]
  },
  {
   "cell_type": "code",
   "execution_count": null,
   "id": "a1c86b47",
   "metadata": {},
   "outputs": [],
   "source": []
  },
  {
   "cell_type": "code",
   "execution_count": null,
   "id": "4f84667f",
   "metadata": {},
   "outputs": [],
   "source": []
  },
  {
   "cell_type": "code",
   "execution_count": null,
   "id": "bff3ffab",
   "metadata": {},
   "outputs": [],
   "source": []
  },
  {
   "cell_type": "code",
   "execution_count": null,
   "id": "99d5f719",
   "metadata": {},
   "outputs": [],
   "source": []
  }
 ],
 "metadata": {
  "kernelspec": {
   "display_name": "Python 3",
   "language": "python",
   "name": "python3"
  },
  "language_info": {
   "codemirror_mode": {
    "name": "ipython",
    "version": 3
   },
   "file_extension": ".py",
   "mimetype": "text/x-python",
   "name": "python",
   "nbconvert_exporter": "python",
   "pygments_lexer": "ipython3",
   "version": "3.8.8"
  }
 },
 "nbformat": 4,
 "nbformat_minor": 5
}
