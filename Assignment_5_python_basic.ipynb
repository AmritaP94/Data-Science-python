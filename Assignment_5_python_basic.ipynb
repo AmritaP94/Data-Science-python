{
 "cells": [
  {
   "cell_type": "code",
   "execution_count": null,
   "id": "f90d5eed",
   "metadata": {},
   "outputs": [],
   "source": [
    "#Q1)What does an empty dictionary's code look like?\n",
    "Ans:dict1 = {} \n",
    "    #declaring a dictionary without any element inside it, \n",
    "    #results in an empty dictionary. "
   ]
  },
  {
   "cell_type": "code",
   "execution_count": null,
   "id": "2c93d33a",
   "metadata": {},
   "outputs": [],
   "source": [
    "#Q2)What is the value of a dictionary value with the key 'foo' \n",
    "    #and the value 42?\n",
    "Ans:42"
   ]
  },
  {
   "cell_type": "code",
   "execution_count": 1,
   "id": "e54e0d4a",
   "metadata": {},
   "outputs": [],
   "source": [
    "dicct1 = {1:{\"foo\":42}}"
   ]
  },
  {
   "cell_type": "code",
   "execution_count": 6,
   "id": "ae1a9db1",
   "metadata": {},
   "outputs": [
    {
     "name": "stdout",
     "output_type": "stream",
     "text": [
      "dict_values([42])\n"
     ]
    }
   ],
   "source": [
    "for i in dicct1.values():\n",
    "    print(i.values())"
   ]
  },
  {
   "cell_type": "code",
   "execution_count": null,
   "id": "7e6095db",
   "metadata": {},
   "outputs": [],
   "source": [
    "#Q3)What is the most significant distinction \n",
    " #between a dictionary and a list?\n",
    "Ans:A dictionary is in the form of a key-value pair.\n",
    "    EX:\n",
    "    dicct1 = {1:{\"foo\":42}} \n",
    "    While a list is a collection of elements.\n",
    "    Ex:\n",
    "        l1 = [1,2,3,4]  "
   ]
  },
  {
   "cell_type": "code",
   "execution_count": null,
   "id": "b5e4d795",
   "metadata": {},
   "outputs": [],
   "source": [
    "#Q4)What happens if you try to access spam['foo'] \n",
    "    #if spam is {'bar': 100}?\n",
    "Ans: It throws \"keyError\" as it couldnt not find the wrong key."
   ]
  },
  {
   "cell_type": "code",
   "execution_count": null,
   "id": "a5b29fb6",
   "metadata": {},
   "outputs": [],
   "source": [
    "#Q5)If a dictionary is stored in spam, what is the difference \n",
    "    #between the expressions 'cat' in spam and 'cat' in spam.keys()?\n",
    "Ans:'cat' in spam is a string, while 'cat' in spam.keys() is a key\n",
    "    in the dictionary inside the spam."
   ]
  },
  {
   "cell_type": "code",
   "execution_count": null,
   "id": "c369ab2e",
   "metadata": {},
   "outputs": [],
   "source": [
    "#Q6)If a dictionary is stored in spam, what is the difference \n",
    "  #between the expressions 'cat' in spam and 'cat' in spam.values()?\n",
    "Ans:'cat' in spam is a string, while 'cat' in spam.keys() is a value\n",
    "    of a key in the dictionary inside the spam."
   ]
  },
  {
   "cell_type": "code",
   "execution_count": null,
   "id": "3fd39643",
   "metadata": {},
   "outputs": [],
   "source": [
    "#Q7)What is a shortcut for the following code?\n",
    "    #if 'color' not in spam:\n",
    "    #spam['color'] = 'black'\n",
    "Ans:"
   ]
  },
  {
   "cell_type": "code",
   "execution_count": null,
   "id": "3a893595",
   "metadata": {},
   "outputs": [],
   "source": [
    "#Q8)How do you \"pretty print\" dictionary values using which module \n",
    " #and function?\n",
    "Ans: import pprint\n",
    "    dict1= [{\"name\":\"Amrita\", \"age\":27, \"course\":\"Data science\"}, {\"Name\":\"Ankita\", \"age\":23, \"course\":\"Commerce\"}, {\"name\":\"Saumya\", \"age\":31, \"course\":\"business\"}]\n",
    "    pprint.pprint(dict1)\n",
    "    #to compare the result with normal printing.\n",
    "    print(dict1)"
   ]
  },
  {
   "cell_type": "code",
   "execution_count": null,
   "id": "676f0dc6",
   "metadata": {},
   "outputs": [],
   "source": []
  },
  {
   "cell_type": "code",
   "execution_count": null,
   "id": "bff7c5eb",
   "metadata": {},
   "outputs": [],
   "source": []
  },
  {
   "cell_type": "code",
   "execution_count": null,
   "id": "958685f1",
   "metadata": {},
   "outputs": [],
   "source": []
  }
 ],
 "metadata": {
  "kernelspec": {
   "display_name": "Python 3",
   "language": "python",
   "name": "python3"
  },
  "language_info": {
   "codemirror_mode": {
    "name": "ipython",
    "version": 3
   },
   "file_extension": ".py",
   "mimetype": "text/x-python",
   "name": "python",
   "nbconvert_exporter": "python",
   "pygments_lexer": "ipython3",
   "version": "3.8.8"
  }
 },
 "nbformat": 4,
 "nbformat_minor": 5
}
