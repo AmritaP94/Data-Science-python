{
 "cells": [
  {
   "cell_type": "code",
   "execution_count": 131,
   "id": "11afd49d",
   "metadata": {},
   "outputs": [],
   "source": [
    "#Q1)#Creating a txt file with contents\n",
    "f=open(\"assessment.txt\", \"w\")\n",
    "f.write(\"This is a placement assignment.placement are done to provide students with job opportunities. placement should not be missed\")\n",
    "f.close()"
   ]
  },
  {
   "cell_type": "code",
   "execution_count": 134,
   "id": "0634917f",
   "metadata": {},
   "outputs": [],
   "source": [
    "def replace_words(fil_name, old_word,new_word):\n",
    "    \"\"\"This function takes in a file name, a word to be replaced and the word to be replaced with, and edits the file\"\"\"\n",
    "    length  = 0\n",
    "    f=open(\"assessment.txt\", \"r+\")\n",
    "    text = f.read()\n",
    "    text = text.split(\".\")\n",
    "    length = text\n",
    "    f.close()\n",
    "    for j in range(0, len(length)):\n",
    "        try:\n",
    "            f=open(\"assessment.txt\", \"r+\")\n",
    "            for i in f.readlines():\n",
    "                if i.find(old_word) != -1:#To check for lowercase version of the word\n",
    "                    f.seek(i.index(old_word))\n",
    "                    f.write(new_word)\n",
    "                #elif i.find(\"Placement\") != -1:#To check for uppercase Version of the word. \n",
    "                #    f.seek(i.index(\"Placement\"))\n",
    "                #    f.write(\"Screening\")\n",
    "                #else:\n",
    "                #    break\n",
    "            f.close()  \n",
    "        except:\n",
    "            continue\n",
    "\n",
    "            \n",
    "            \n",
    "replace_words(\"assessment.txt\",\"placement\", \"screening\")"
   ]
  },
  {
   "cell_type": "code",
   "execution_count": 135,
   "id": "a1434983",
   "metadata": {},
   "outputs": [
    {
     "data": {
      "text/plain": [
       "'This is a screening assignment.screening are done to provide students with job opportunities. screening should not be missed'"
      ]
     },
     "execution_count": 135,
     "metadata": {},
     "output_type": "execute_result"
    }
   ],
   "source": [
    "f = open(\"assessment.txt\")\n",
    "f.read()"
   ]
  },
  {
   "cell_type": "code",
   "execution_count": 136,
   "id": "77c72ab6",
   "metadata": {},
   "outputs": [],
   "source": [
    "f.close()"
   ]
  },
  {
   "cell_type": "code",
   "execution_count": null,
   "id": "94c068b6",
   "metadata": {},
   "outputs": [],
   "source": [
    "#Q2)\n",
    "#Abstract Class\n",
    "#Python doesnt directly support abstract class, but an abstract class can be implemented using the abc module and calling an \n",
    " #an abstract method. \n",
    "#An abstract class is a class which contains an abstract method.\n",
    "#and abstract method is a method which is declared but has no implementation.\n",
    "\n",
    "from abc import ABC, abstractmethod\n",
    "class DataScience(ABC): #here it inherits the ABC class.\n",
    "    @abstractmethod #here abstract method is declared.\n",
    "    def courses(self):\n",
    "        pass # pass keyword shows that this is a mthod with no implementation.\n",
    "    \n",
    "#if another class inherits from a abstract class then it needs to define the original abstract method again."
   ]
  },
  {
   "cell_type": "code",
   "execution_count": 173,
   "id": "e923fdcd",
   "metadata": {},
   "outputs": [
    {
     "name": "stdout",
     "output_type": "stream",
     "text": [
      "The Full Stack Data Analytics course begins in February\n"
     ]
    }
   ],
   "source": [
    "#Q2)\n",
    "#To show multiple inheritance\n",
    "class DataScience:#parent class 1\n",
    "    def __init__(self, a,b):\n",
    "        self.a= a\n",
    "        self.b = b\n",
    "        \n",
    "        \n",
    "    def courses(self): #Method of Parent class \n",
    "        print(\"The Full Stack Data Science course begins in December\")\n",
    "        \n",
    "        \n",
    "class DataAnalytics:#parent class 2\n",
    "    def __init__(self,c,d):\n",
    "        self.c = c\n",
    "        self.d = d\n",
    "        \n",
    "        \n",
    "    def course(self): #Method of parent class 2.\n",
    "        print(\"The Full Stack Data Analytics course begins in February\")\n",
    "        \n",
    "class Ineuron(DataAnalytics, DataScience):#The child class Ineuron inherits from both the parent classes. \n",
    "    def __init__(self, *args, **kwargs):\n",
    "        DataScience.__init__(self, *args)\n",
    "        DataAnalytics.__init__(self, **kwargs)\n",
    "        \n",
    "        \n",
    "\n",
    "child = Ineuron(2,3,c=4,d=5)#object of child class.\n",
    "child.c\n",
    "child.course()"
   ]
  },
  {
   "cell_type": "code",
   "execution_count": 178,
   "id": "75f3393b",
   "metadata": {},
   "outputs": [],
   "source": [
    "#Decorators in python are used to add some additional functionality to a already existing function in python.\n",
    "def subtract(a,b):\n",
    "    print(a-b)\n",
    "    \n",
    "def swap(func):\n",
    "    def inner(a,b):\n",
    "        if b>a:\n",
    "            a,b=b,a\n",
    "        return func(a,b)\n",
    "    return inner\n",
    "\n",
    "subtract = swap(subtract)"
   ]
  },
  {
   "cell_type": "code",
   "execution_count": 179,
   "id": "43102da7",
   "metadata": {},
   "outputs": [
    {
     "name": "stdout",
     "output_type": "stream",
     "text": [
      "2\n"
     ]
    }
   ],
   "source": [
    "subtract(2,4)"
   ]
  },
  {
   "cell_type": "code",
   "execution_count": null,
   "id": "7d3f7fb5",
   "metadata": {},
   "outputs": [],
   "source": []
  }
 ],
 "metadata": {
  "kernelspec": {
   "display_name": "Python 3",
   "language": "python",
   "name": "python3"
  },
  "language_info": {
   "codemirror_mode": {
    "name": "ipython",
    "version": 3
   },
   "file_extension": ".py",
   "mimetype": "text/x-python",
   "name": "python",
   "nbconvert_exporter": "python",
   "pygments_lexer": "ipython3",
   "version": "3.8.8"
  }
 },
 "nbformat": 4,
 "nbformat_minor": 5
}
