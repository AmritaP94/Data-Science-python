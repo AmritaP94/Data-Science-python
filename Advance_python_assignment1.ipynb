{
 "cells": [
  {
   "cell_type": "code",
   "execution_count": null,
   "id": "a704d439",
   "metadata": {},
   "outputs": [],
   "source": [
    "#Q1)What is the purpose of Python's OOP?\n",
    "Ans: The oop of Python helps in implementing many features like inheritance, polymorphism, hiding, encapsulation,\n",
    "    the accesibility and changeability of the various entities related to a particular code. it also helps to bind the data and\n",
    "    the functions related to it together for security and ease of performance."
   ]
  },
  {
   "cell_type": "code",
   "execution_count": null,
   "id": "0a0459a5",
   "metadata": {},
   "outputs": [],
   "source": [
    "#Q2)Where does an inheritance search look for an attribute?\n",
    "Ans:An inheritance search looks for an attribute in the parent class from which it has been inherited."
   ]
  },
  {
   "cell_type": "code",
   "execution_count": null,
   "id": "1ddcde01",
   "metadata": {},
   "outputs": [],
   "source": [
    "#Q3)How do you distinguish between a class object and an instance object?\n",
    "Ans:Class Object: is created with the declaration of the class. Whereas\n",
    "    Instance Object: is created with the creation of the object of the class."
   ]
  },
  {
   "cell_type": "code",
   "execution_count": null,
   "id": "d88b3f24",
   "metadata": {},
   "outputs": [],
   "source": [
    "#Q4)What makes the first argument in a class’s method function special?\n",
    "Ans:The first argument in the class method is self. Self does not take any input but acts as a pointer. It allows for the \n",
    "    creation of the instance/object of the class. In absence of the self, the method/variable becomes class type."
   ]
  },
  {
   "cell_type": "code",
   "execution_count": null,
   "id": "5e3f80e1",
   "metadata": {},
   "outputs": [],
   "source": [
    "#Q5)What is the purpose of the __init__ method?\n",
    "Ans: The purpose of __init__() is to help in the initialization of the class objects attributes.    "
   ]
  },
  {
   "cell_type": "code",
   "execution_count": 1,
   "id": "6b23ca87",
   "metadata": {},
   "outputs": [],
   "source": [
    "#Q6)What is the process for creating a class instance?\n",
    "#Ans: \n",
    "class Example:\n",
    "    def __init__(self, a, b, c):\n",
    "        self.a = a\n",
    "        self.b = b\n",
    "        self.c = c\n",
    "            \n",
    "    def printing(self):\n",
    "        print(self.a, self.b, self.c)\n",
    "            \n",
    "#creation of class instance        \n",
    "objects = Example(2,3,4)\n",
    "objects.printing()"
   ]
  },
  {
   "cell_type": "code",
   "execution_count": null,
   "id": "2f3ada21",
   "metadata": {},
   "outputs": [],
   "source": [
    "#Q7)What is the process for creating a class?\n",
    "Ans:#creating a class name.\n",
    "    class Example:\n",
    "    def __init__(self, a, b, c):# declaring an __init__() for initializing the class variables.\n",
    "        self.a = a\n",
    "        self.b = b\n",
    "        self.c = c\n",
    "            \n",
    "    def printing(self):#declaring other methods of the class.\n",
    "        print(self.a, self.b, self.c)"
   ]
  },
  {
   "cell_type": "code",
   "execution_count": null,
   "id": "81a67c69",
   "metadata": {},
   "outputs": [],
   "source": [
    "#Q8)How would you define the superclasses of a class?\n",
    "Ans:\n",
    "class Example:#parent class\n",
    "    def __init__(self, a, b, c):\n",
    "        self.a = a\n",
    "        self.b = b\n",
    "        self.c = c\n",
    "            \n",
    "    def printing(self):#method of parent class\n",
    "        print(self.a, self.b, self.c)\n",
    "        \n",
    "class child(Example):\n",
    "    def __init__(self, a,b,c):\n",
    "        super().__init__(a,b,c)"
   ]
  },
  {
   "cell_type": "code",
   "execution_count": null,
   "id": "a7b8f57d",
   "metadata": {},
   "outputs": [],
   "source": []
  }
 ],
 "metadata": {
  "kernelspec": {
   "display_name": "Python 3",
   "language": "python",
   "name": "python3"
  },
  "language_info": {
   "codemirror_mode": {
    "name": "ipython",
    "version": 3
   },
   "file_extension": ".py",
   "mimetype": "text/x-python",
   "name": "python",
   "nbconvert_exporter": "python",
   "pygments_lexer": "ipython3",
   "version": "3.8.8"
  }
 },
 "nbformat": 4,
 "nbformat_minor": 5
}
