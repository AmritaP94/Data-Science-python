{
 "cells": [
  {
   "cell_type": "code",
   "execution_count": null,
   "id": "18504b47",
   "metadata": {},
   "outputs": [],
   "source": [
    "#Q1. What exactly is []?\n",
    "Ans: [] is a list. An empty list is declared using the [] symbol while a new list of elements is declared by putting elements\n",
    "    inside the list.\n",
    "    Ex: l = []#empty list\n",
    "        l1 = [1,2,3,4,5] #new list with elements."
   ]
  },
  {
   "cell_type": "code",
   "execution_count": null,
   "id": "8222d4b0",
   "metadata": {},
   "outputs": [],
   "source": [
    "#Q2. In a list of values stored in a variable called spam, \n",
    "    #how would you assign the value 'hello' as the third value? (Assume [2, 4, 6, 8, 10] are in spam.)\n",
    "Ans: spam = [2,4,6,8,10]\n",
    "     spam.insert(2,\"hello\")#insert statement is used to insert an element at a particular index.\n",
    "    "
   ]
  },
  {
   "cell_type": "code",
   "execution_count": 1,
   "id": "4fb643ec",
   "metadata": {},
   "outputs": [],
   "source": [
    "spam = ['a','b','c','d'] #for the next three quesries this is the value of spam."
   ]
  },
  {
   "cell_type": "code",
   "execution_count": null,
   "id": "eb4ccb32",
   "metadata": {},
   "outputs": [],
   "source": [
    "#Q3.What is the value of spam[int(int('3' * 2) / 11)]?\n",
    "Ans:d#as d is in the 3rd index."
   ]
  },
  {
   "cell_type": "code",
   "execution_count": 7,
   "id": "422ad2f8",
   "metadata": {},
   "outputs": [
    {
     "data": {
      "text/plain": [
       "'d'"
      ]
     },
     "execution_count": 7,
     "metadata": {},
     "output_type": "execute_result"
    }
   ],
   "source": [
    "#Q4. What is the value of spam[-1]?\n",
    "Ans: spam[-1]= 'd' #as d is the last element in the list."
   ]
  },
  {
   "cell_type": "code",
   "execution_count": null,
   "id": "5954ea8f",
   "metadata": {},
   "outputs": [],
   "source": [
    "#Q5. What is the value of spam[:2]?\n",
    "Ans: a,b"
   ]
  },
  {
   "cell_type": "code",
   "execution_count": 6,
   "id": "ef1ca54d",
   "metadata": {},
   "outputs": [],
   "source": [
    "#bacon = [3.14, 'cat,' 11, 'cat,' True]\n",
    "#Q6)What is the value of bacon.index('cat')?\n",
    "Ans:1"
   ]
  },
  {
   "cell_type": "code",
   "execution_count": 7,
   "id": "d1d45d28",
   "metadata": {},
   "outputs": [],
   "source": [
    "#Q7)How does bacon.append(99) change the look of the list value in bacon?\n",
    "Ans: [3.14, 'cat,' 11, 'cat,' True, 99]"
   ]
  },
  {
   "cell_type": "code",
   "execution_count": null,
   "id": "11f58226",
   "metadata": {},
   "outputs": [],
   "source": [
    "#Q8)How does bacon.remove('cat') change the look of the list in bacon?\n",
    "Ans: it removes the first occurance of the element."
   ]
  },
  {
   "cell_type": "code",
   "execution_count": 9,
   "id": "b1f35fa5",
   "metadata": {},
   "outputs": [],
   "source": [
    "#Q9)What are the list concatenation and list replication operators?\n",
    "Ans: Concatenation operators are extend. \n",
    "    Ex: list1 = [1,2,3,4], list2 = [5,6,7,8]\n",
    "        list1.extend(list2)\n",
    "    \n",
    "    Replication is done using copy. \n",
    "    list3= list1.copy()"
   ]
  },
  {
   "cell_type": "code",
   "execution_count": null,
   "id": "2a37cc7e",
   "metadata": {},
   "outputs": [],
   "source": [
    "#Q10)What is difference between the list methods append() and insert()?\n",
    "Ans: Append() adds the new element to the end of the list.\n",
    "     insert() adds the new element to the given index.\n",
    "        ex:\n",
    "            list1 = [1,2,3,4,5]\n",
    "            list1.append(6)\n",
    "            new_list1 = [1,2,3,4,5,6]\n",
    "            list1.insert(3,4)\n",
    "            new_list2 = [1,2,3,6,4,5]"
   ]
  },
  {
   "cell_type": "code",
   "execution_count": null,
   "id": "cbb0fcb1",
   "metadata": {},
   "outputs": [],
   "source": [
    "#Q11)What are the two methods for removing items from a list?\n",
    "Ans: pop() and remove() are two methods for removing elements from a list."
   ]
  },
  {
   "cell_type": "code",
   "execution_count": null,
   "id": "cf4217cb",
   "metadata": {},
   "outputs": [],
   "source": [
    "#Q12)Describe how list values and string values are identical.\n",
    "Ans: List values can be iterated over same as string values."
   ]
  },
  {
   "cell_type": "code",
   "execution_count": null,
   "id": "e053c08e",
   "metadata": {},
   "outputs": [],
   "source": [
    "#Q13)What's the difference between tuples and lists?\n",
    "Ans: tuples are cannot be modified and can be used in case of data that need heavy security. Lists can be modified."
   ]
  },
  {
   "cell_type": "code",
   "execution_count": null,
   "id": "ffe3647b",
   "metadata": {},
   "outputs": [],
   "source": [
    "#Q14)How do you type a tuple value that only contains the integer 42?\n",
    "Ans:(42,)"
   ]
  },
  {
   "cell_type": "code",
   "execution_count": 9,
   "id": "b2543d46",
   "metadata": {},
   "outputs": [],
   "source": [
    "#Q15)How do you get a list value's tuple form? How do you get a tuple value's list form?\n",
    "Ans: A list values tuple form can be formed by declaring it as a tuple.\n",
    "    Ex:l1 = [1,2,3]\n",
    "    lt = tuple(l1)\n",
    "    A tuple values list form can be formed by declaring it as a list.\n",
    "    lt = (1,2,3)\n",
    "    l2 = list(lt)"
   ]
  },
  {
   "cell_type": "code",
   "execution_count": null,
   "id": "48222c77",
   "metadata": {},
   "outputs": [],
   "source": [
    "#Q16)Variables that \"contain\" list values are not necessarily lists themselves. Instead, what do they contain?\n",
    "Ans:l1 = (1,2,3,[4,5,6])\n",
    "    This is an example of a tuple which contains a list of items inside them too."
   ]
  },
  {
   "cell_type": "code",
   "execution_count": null,
   "id": "9915009b",
   "metadata": {},
   "outputs": [],
   "source": [
    "#Q17)How do you distinguish between copy.copy() and copy.deepcopy()?\n",
    "Ans: In a shallow copy, the changes introduced in the copied \n",
    "    new variable is also reflected in the original variable. \n",
    "    In a deep copy, the changes introduced in the copied new \n",
    "    variable is not reflected in the original variable."
   ]
  },
  {
   "cell_type": "code",
   "execution_count": null,
   "id": "f67f65eb",
   "metadata": {},
   "outputs": [],
   "source": []
  },
  {
   "cell_type": "code",
   "execution_count": null,
   "id": "79dded33",
   "metadata": {},
   "outputs": [],
   "source": []
  },
  {
   "cell_type": "code",
   "execution_count": null,
   "id": "67c5eb8e",
   "metadata": {},
   "outputs": [],
   "source": []
  }
 ],
 "metadata": {
  "kernelspec": {
   "display_name": "Python 3",
   "language": "python",
   "name": "python3"
  },
  "language_info": {
   "codemirror_mode": {
    "name": "ipython",
    "version": 3
   },
   "file_extension": ".py",
   "mimetype": "text/x-python",
   "name": "python",
   "nbconvert_exporter": "python",
   "pygments_lexer": "ipython3",
   "version": "3.8.8"
  }
 },
 "nbformat": 4,
 "nbformat_minor": 5
}
