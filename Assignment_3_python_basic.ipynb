{
 "cells": [
  {
   "cell_type": "code",
   "execution_count": null,
   "id": "ec91f26b",
   "metadata": {},
   "outputs": [],
   "source": [
    "#Q1. Why are functions advantageous to have in your programs?\n",
    "Ans: Advantages of having functions in a code are as follows:\n",
    "    i) divides the function into smaller portions and hence prevents breaking down of the entire code.\n",
    "    ii) logic for a particular job need not be rewritten and encapsulating it in a function makes it callable.\n",
    "    iii) ecapsulation in a function has the advantage of being callable with different inputs."
   ]
  },
  {
   "cell_type": "code",
   "execution_count": null,
   "id": "2e364159",
   "metadata": {},
   "outputs": [],
   "source": [
    "#Q2)When does the code in a function run: when it's specified or when it's called?\n",
    "Ans: The code in a function runs only when it is called."
   ]
  },
  {
   "cell_type": "code",
   "execution_count": null,
   "id": "43e6eb4a",
   "metadata": {},
   "outputs": [],
   "source": [
    "#Q3) What statement creates a function?\n",
    "Ans: A function is created by the following statement:\n",
    "        def {function_name}:"
   ]
  },
  {
   "cell_type": "code",
   "execution_count": null,
   "id": "c146462a",
   "metadata": {},
   "outputs": [],
   "source": [
    "#Q4) What is the difference between a function and a function call?\n",
    "Ans: Function: \n",
    "        is a small segment of a code written for a particular portion or logic. it can be created using the following statement.\n",
    "        def {function_name}:\n",
    "        ex: def add(a,b):\n",
    "                {Body}\n",
    "            \n",
    "    Function call:\n",
    "        is when the function is called in order to perform the calculation. a function is called using its name.\n",
    "        function_name(input)\n",
    "        add(4,5)#calling this performs the add operation of two numbers.\n"
   ]
  },
  {
   "cell_type": "code",
   "execution_count": null,
   "id": "47046917",
   "metadata": {},
   "outputs": [],
   "source": [
    "#Q5. How many global scopes are there in a Python program? How many local scopes?\n",
    "Ans:A Global scope is a variable type that can be accessed fom anywhere within the code. There is only one global scope in a \n",
    "    program. in order to declare a variable as a global variable, the keyword global can be used if the variable is being \n",
    "    declared inside a code block. Else if it is declared outside any code block, then it need not use Global keyword.\n",
    "    \n",
    "    A local scope is declared inside a function and its scope is terminated once the function is terminated and \n",
    "    cannot be accessed further. \n",
    "    Ex:\n",
    "        name =\" \"\n",
    "        def concat():\n",
    "            second_str = \" \"\n",
    "            \n",
    "            \n",
    "        Here, name variable has global scope while second_str has local scope."
   ]
  },
  {
   "cell_type": "code",
   "execution_count": null,
   "id": "81630e0e",
   "metadata": {},
   "outputs": [],
   "source": [
    "#Q6. What happens to variables in a local scope when the function call returns?\n",
    "Ans: When function call returns, the scope of the variable is over and cannot be accessed any further."
   ]
  },
  {
   "cell_type": "code",
   "execution_count": null,
   "id": "8f81d525",
   "metadata": {},
   "outputs": [],
   "source": [
    "#Q7. What is the concept of a return value? Is it possible to have a return value in an expression?\n",
    "Ans: Return Value means the end value returned by a function after processing through the expression inside it. An expression \n",
    "    cannot be a return value, but its end result can be a return value."
   ]
  },
  {
   "cell_type": "code",
   "execution_count": null,
   "id": "13255e54",
   "metadata": {},
   "outputs": [],
   "source": [
    "#Q8. If a function does not have a return statement, what is the return value of a call to that function?\n",
    "Ans:If a function does not have a return statement then it returns void. "
   ]
  },
  {
   "cell_type": "code",
   "execution_count": null,
   "id": "fee73445",
   "metadata": {},
   "outputs": [],
   "source": [
    "#Q9. How do you make a function variable refer to the global variable?\n",
    "Ans: A function variable can be referred to a global variable by using the Global keyword."
   ]
  },
  {
   "cell_type": "code",
   "execution_count": null,
   "id": "a42a0b17",
   "metadata": {},
   "outputs": [],
   "source": [
    "#Q10. What is the data type of None?\n",
    "Ans: The data type of None is of None Class."
   ]
  },
  {
   "cell_type": "code",
   "execution_count": null,
   "id": "3c6b7141",
   "metadata": {},
   "outputs": [],
   "source": [
    "#Q11. What does the sentence import areallyourpetsnamederic do?\n",
    "Ans: The sentence \"import areallyourpetsnamederic\" imports everything in the areallyourpetnamederic class."
   ]
  },
  {
   "cell_type": "code",
   "execution_count": null,
   "id": "3c836c61",
   "metadata": {},
   "outputs": [],
   "source": [
    "#Q12. If you had a bacon() feature in a spam module, what would you call it after importing spam?\n"
   ]
  },
  {
   "cell_type": "code",
   "execution_count": null,
   "id": "8d9c263a",
   "metadata": {},
   "outputs": [],
   "source": [
    "#Q13. What can you do to save a programme from crashing if it encounters an error?\n",
    "Ans: Divide the program into smaller modules called functions. \n",
    "    Raise custom error wherever suspected."
   ]
  },
  {
   "cell_type": "code",
   "execution_count": null,
   "id": "dfa441ed",
   "metadata": {},
   "outputs": [],
   "source": [
    "#Q14. What is the purpose of the try clause? What is the purpose of the except clause?\n",
    "Ans: Try clause tries out a code/block of code inside it and shows the result. If some error arises in the try block, \n",
    "     then control goes to the except block where the error is handled."
   ]
  },
  {
   "cell_type": "code",
   "execution_count": null,
   "id": "ce9a8788",
   "metadata": {},
   "outputs": [],
   "source": []
  }
 ],
 "metadata": {
  "kernelspec": {
   "display_name": "Python 3",
   "language": "python",
   "name": "python3"
  },
  "language_info": {
   "codemirror_mode": {
    "name": "ipython",
    "version": 3
   },
   "file_extension": ".py",
   "mimetype": "text/x-python",
   "name": "python",
   "nbconvert_exporter": "python",
   "pygments_lexer": "ipython3",
   "version": "3.8.8"
  }
 },
 "nbformat": 4,
 "nbformat_minor": 5
}
